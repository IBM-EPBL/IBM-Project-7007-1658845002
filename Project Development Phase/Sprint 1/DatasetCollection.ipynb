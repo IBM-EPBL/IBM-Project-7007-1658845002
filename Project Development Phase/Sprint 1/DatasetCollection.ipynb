{
  "nbformat": 4,
  "nbformat_minor": 0,
  "metadata": {
    "colab": {
      "provenance": []
    },
    "kernelspec": {
      "name": "python3",
      "display_name": "Python 3"
    },
    "language_info": {
      "name": "python"
    }
  },
  "cells": [
    {
      "cell_type": "markdown",
      "source": [
        "Team ID : PNT2022TMID35486"
      ],
      "metadata": {
        "id": "3Ug3KeTRQrlG"
      }
    },
    {
      "cell_type": "code",
      "execution_count": 1,
      "metadata": {
        "colab": {
          "base_uri": "https://localhost:8080/"
        },
        "id": "nAxeVG4DPpvm",
        "outputId": "5edac6e8-dcd9-4542-df12-719f5bd00c9e"
      },
      "outputs": [
        {
          "output_type": "stream",
          "name": "stdout",
          "text": [
            "Mounted at /content/drive\n"
          ]
        }
      ],
      "source": [
        "from google.colab import drive\n",
        "drive.mount('/content/drive')"
      ]
    },
    {
      "cell_type": "markdown",
      "source": [
        "Importing The ImageDataGenerator Library"
      ],
      "metadata": {
        "id": "nZqmmRPkP2Lf"
      }
    },
    {
      "cell_type": "code",
      "source": [
        "import numpy as np\n",
        "import tensorflow as tf\n",
        "from tensorflow.keras.models import Sequential \n",
        "from tensorflow.keras.layers import Dense,Flatten, Dropout\n",
        "from tensorflow.keras.layers import Convolution2D,MaxPooling2D \n",
        "from tensorflow.keras.preprocessing.image import ImageDataGenerator"
      ],
      "metadata": {
        "id": "HeJ48HvfP2xd"
      },
      "execution_count": 2,
      "outputs": []
    },
    {
      "cell_type": "markdown",
      "source": [
        "Loading and augmentation of given data"
      ],
      "metadata": {
        "id": "YzL3Fas8Qjzn"
      }
    },
    {
      "cell_type": "code",
      "source": [
        "from tensorflow.keras.preprocessing.image import ImageDataGenerator\n",
        "train_datagen = ImageDataGenerator(rescale=1./255,\n",
        "                                   shear_range=0.2,\n",
        "                                   zoom_range=0.2,\n",
        "                                   horizontal_flip=True)\n",
        "test_datagen = ImageDataGenerator(rescale=1./255)\n",
        "train_data= train_datagen.flow_from_directory('/content/drive/MyDrive/IBM/dataset/train',\n",
        "                                target_size=(80,80),batch_size=8,class_mode='categorical',subset='training',color_mode='grayscale')\n",
        "test_data = test_datagen.flow_from_directory('/content/drive/MyDrive/IBM/dataset/test',\n",
        "                                target_size=(80,80),batch_size=8,class_mode='categorical',color_mode='grayscale')"
      ],
      "metadata": {
        "colab": {
          "base_uri": "https://localhost:8080/"
        },
        "id": "JQRGPzRAQLjW",
        "outputId": "c3297101-8628-4017-85c9-268ae3d7769e"
      },
      "execution_count": 3,
      "outputs": [
        {
          "output_type": "stream",
          "name": "stdout",
          "text": [
            "Found 594 images belonging to 6 classes.\n",
            "Found 30 images belonging to 6 classes.\n"
          ]
        }
      ]
    }
  ]
}