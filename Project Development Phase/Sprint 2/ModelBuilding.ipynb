{
  "nbformat": 4,
  "nbformat_minor": 0,
  "metadata": {
    "colab": {
      "provenance": []
    },
    "kernelspec": {
      "name": "python3",
      "display_name": "Python 3"
    },
    "language_info": {
      "name": "python"
    }
  },
  "cells": [
    {
      "cell_type": "markdown",
      "source": [
        "Team ID : PNT2022TMID35486"
      ],
      "metadata": {
        "id": "3Ug3KeTRQrlG"
      }
    },
    {
      "cell_type": "code",
      "execution_count": 15,
      "metadata": {
        "colab": {
          "base_uri": "https://localhost:8080/"
        },
        "id": "nAxeVG4DPpvm",
        "outputId": "868546d5-2188-4f66-cc7c-12858553e706"
      },
      "outputs": [
        {
          "output_type": "stream",
          "name": "stdout",
          "text": [
            "Drive already mounted at /content/drive; to attempt to forcibly remount, call drive.mount(\"/content/drive\", force_remount=True).\n"
          ]
        }
      ],
      "source": [
        "from google.colab import drive\n",
        "drive.mount('/content/drive')"
      ]
    },
    {
      "cell_type": "markdown",
      "source": [
        "Importing The ImageDataGenerator Library"
      ],
      "metadata": {
        "id": "nZqmmRPkP2Lf"
      }
    },
    {
      "cell_type": "code",
      "source": [
        "import numpy as np\n",
        "import tensorflow as tf\n",
        "from tensorflow.keras.models import Sequential\n",
        "from tensorflow.keras.layers import Dense,Flatten,Dropout\n",
        "from tensorflow.keras.layers import Convolution2D,MaxPooling2D\n",
        "from tensorflow.keras.preprocessing.image import ImageDataGenerator"
      ],
      "metadata": {
        "id": "HeJ48HvfP2xd"
      },
      "execution_count": 14,
      "outputs": []
    },
    {
      "cell_type": "markdown",
      "source": [
        "Loading and augmentation of given data"
      ],
      "metadata": {
        "id": "YzL3Fas8Qjzn"
      }
    },
    {
      "cell_type": "code",
      "source": [
        "train = ImageDataGenerator(rescale = 1./255,shear_range=0.2,zoom_range=0.2,horizontal_flip=True)\n",
        "test = ImageDataGenerator(rescale = 1./255)\n",
        "A_train = train.flow_from_directory('/content/drive/MyDrive/IBM/dataset/train', target_size=(64,64), color_mode='grayscale',batch_size=3, class_mode='categorical')\n",
        "A_test = test.flow_from_directory('/content/drive/MyDrive/IBM/dataset/test', target_size=(64,64), color_mode='grayscale',batch_size=3, class_mode='categorical')"
      ],
      "metadata": {
        "colab": {
          "base_uri": "https://localhost:8080/"
        },
        "id": "JQRGPzRAQLjW",
        "outputId": "765cce82-a4f3-4a97-a115-0ffb9e0403a7"
      },
      "execution_count": 18,
      "outputs": [
        {
          "output_type": "stream",
          "name": "stdout",
          "text": [
            "Found 594 images belonging to 6 classes.\n",
            "Found 30 images belonging to 6 classes.\n"
          ]
        }
      ]
    },
    {
      "cell_type": "code",
      "source": [
        "print(A_train.class_indices)"
      ],
      "metadata": {
        "colab": {
          "base_uri": "https://localhost:8080/"
        },
        "id": "tCxo97e3UGU9",
        "outputId": "6554a700-6633-435a-cace-f51af1215fc0"
      },
      "execution_count": 19,
      "outputs": [
        {
          "output_type": "stream",
          "name": "stdout",
          "text": [
            "{'0': 0, '1': 1, '2': 2, '3': 3, '4': 4, '5': 5}\n"
          ]
        }
      ]
    },
    {
      "cell_type": "code",
      "source": [
        "print(A_test.class_indices)"
      ],
      "metadata": {
        "colab": {
          "base_uri": "https://localhost:8080/"
        },
        "id": "R06T_r7TURRX",
        "outputId": "a2720e06-85db-4373-b7f6-35ee3d9fb687"
      },
      "execution_count": 20,
      "outputs": [
        {
          "output_type": "stream",
          "name": "stdout",
          "text": [
            "{'0': 0, '1': 1, '2': 2, '3': 3, '4': 4, '5': 5}\n"
          ]
        }
      ]
    },
    {
      "cell_type": "code",
      "source": [
        "model = Sequential()"
      ],
      "metadata": {
        "id": "wHU2_40QUXfA"
      },
      "execution_count": 7,
      "outputs": []
    },
    {
      "cell_type": "markdown",
      "source": [
        "Add 1st Convolution Layer and Pooling layer"
      ],
      "metadata": {
        "id": "lV6mvuy6UhNo"
      }
    },
    {
      "cell_type": "code",
      "source": [
        "model.add(Convolution2D(32,(3,3),input_shape=(64,64,1),activation='relu'))\n",
        "model.add(MaxPooling2D(pool_size=(2,2)))"
      ],
      "metadata": {
        "id": "n28hAy4oUcBX"
      },
      "execution_count": 8,
      "outputs": []
    },
    {
      "cell_type": "markdown",
      "source": [
        "Add 2nd Convolution Layer and Pooling layer"
      ],
      "metadata": {
        "id": "4DBL_c-uUiOY"
      }
    },
    {
      "cell_type": "code",
      "source": [
        "model.add(Convolution2D(32,(3,3),activation='relu'))\n",
        "model.add(MaxPooling2D(pool_size=(2,2)))"
      ],
      "metadata": {
        "id": "b7mh7hexUkH4"
      },
      "execution_count": 9,
      "outputs": []
    },
    {
      "cell_type": "markdown",
      "source": [
        "Add Flatten layer"
      ],
      "metadata": {
        "id": "nEpFEgHeUoK_"
      }
    },
    {
      "cell_type": "code",
      "source": [
        "\n",
        "model.add(Flatten())"
      ],
      "metadata": {
        "id": "oQ5OLIlGUov3"
      },
      "execution_count": 10,
      "outputs": []
    },
    {
      "cell_type": "markdown",
      "source": [
        "Add dense layers"
      ],
      "metadata": {
        "id": "t0KwvttHUryv"
      }
    },
    {
      "cell_type": "code",
      "source": [
        "model.add(Dense(units=512,activation='relu'))\n",
        "model.add(Dense(units=6,activation='softmax'))\n",
        "model.summary()"
      ],
      "metadata": {
        "colab": {
          "base_uri": "https://localhost:8080/"
        },
        "id": "j3RSmXLHUsVx",
        "outputId": "032c254c-b299-4b94-ae43-80e9a3835e07"
      },
      "execution_count": 11,
      "outputs": [
        {
          "output_type": "stream",
          "name": "stdout",
          "text": [
            "Model: \"sequential\"\n",
            "_________________________________________________________________\n",
            " Layer (type)                Output Shape              Param #   \n",
            "=================================================================\n",
            " conv2d (Conv2D)             (None, 62, 62, 32)        320       \n",
            "                                                                 \n",
            " max_pooling2d (MaxPooling2D  (None, 31, 31, 32)       0         \n",
            " )                                                               \n",
            "                                                                 \n",
            " conv2d_1 (Conv2D)           (None, 29, 29, 32)        9248      \n",
            "                                                                 \n",
            " max_pooling2d_1 (MaxPooling  (None, 14, 14, 32)       0         \n",
            " 2D)                                                             \n",
            "                                                                 \n",
            " flatten (Flatten)           (None, 6272)              0         \n",
            "                                                                 \n",
            " dense (Dense)               (None, 512)               3211776   \n",
            "                                                                 \n",
            " dense_1 (Dense)             (None, 6)                 3078      \n",
            "                                                                 \n",
            "=================================================================\n",
            "Total params: 3,224,422\n",
            "Trainable params: 3,224,422\n",
            "Non-trainable params: 0\n",
            "_________________________________________________________________\n"
          ]
        }
      ]
    },
    {
      "cell_type": "markdown",
      "source": [
        "Compile the model"
      ],
      "metadata": {
        "id": "Z9gpY0clUx0H"
      }
    },
    {
      "cell_type": "code",
      "source": [
        "\n",
        "model.compile(metrics=['accuracy'],loss='categorical_crossentropy',optimizer='adam')"
      ],
      "metadata": {
        "id": "IamMKQMaUyS_"
      },
      "execution_count": 12,
      "outputs": []
    },
    {
      "cell_type": "markdown",
      "source": [
        "Train the model"
      ],
      "metadata": {
        "id": "vVym-DWdU0TH"
      }
    },
    {
      "cell_type": "code",
      "source": [
        "model.fit(A_train,steps_per_epoch = 594/3,epochs=25,validation_data=A_test,validation_steps=len(A_test))"
      ],
      "metadata": {
        "colab": {
          "base_uri": "https://localhost:8080/"
        },
        "id": "mAVD9rsLU2L4",
        "outputId": "a2c0e57d-11ef-4a0b-e9a5-6401d61d7384"
      },
      "execution_count": 21,
      "outputs": [
        {
          "output_type": "stream",
          "name": "stdout",
          "text": [
            "Epoch 1/25\n",
            "198/198 [==============================] - 166s 837ms/step - loss: 1.2332 - accuracy: 0.5202 - val_loss: 0.7653 - val_accuracy: 0.6333\n",
            "Epoch 2/25\n",
            "198/198 [==============================] - 14s 71ms/step - loss: 0.5577 - accuracy: 0.7980 - val_loss: 0.4178 - val_accuracy: 0.8333\n",
            "Epoch 3/25\n",
            "198/198 [==============================] - 14s 70ms/step - loss: 0.3978 - accuracy: 0.8535 - val_loss: 0.5630 - val_accuracy: 0.8667\n",
            "Epoch 4/25\n",
            "198/198 [==============================] - 14s 72ms/step - loss: 0.2862 - accuracy: 0.8906 - val_loss: 0.4033 - val_accuracy: 0.9000\n",
            "Epoch 5/25\n",
            "198/198 [==============================] - 14s 71ms/step - loss: 0.2048 - accuracy: 0.9259 - val_loss: 0.4166 - val_accuracy: 0.9000\n",
            "Epoch 6/25\n",
            "198/198 [==============================] - 14s 71ms/step - loss: 0.1839 - accuracy: 0.9343 - val_loss: 0.2461 - val_accuracy: 0.9000\n",
            "Epoch 7/25\n",
            "198/198 [==============================] - 14s 71ms/step - loss: 0.1237 - accuracy: 0.9529 - val_loss: 0.5040 - val_accuracy: 0.9000\n",
            "Epoch 8/25\n",
            "198/198 [==============================] - 14s 72ms/step - loss: 0.0736 - accuracy: 0.9747 - val_loss: 0.2938 - val_accuracy: 0.9667\n",
            "Epoch 9/25\n",
            "198/198 [==============================] - 14s 71ms/step - loss: 0.0593 - accuracy: 0.9882 - val_loss: 0.3096 - val_accuracy: 0.9667\n",
            "Epoch 10/25\n",
            "198/198 [==============================] - 14s 69ms/step - loss: 0.1107 - accuracy: 0.9529 - val_loss: 0.2806 - val_accuracy: 0.9667\n",
            "Epoch 11/25\n",
            "198/198 [==============================] - 14s 72ms/step - loss: 0.0673 - accuracy: 0.9714 - val_loss: 0.3630 - val_accuracy: 0.8667\n",
            "Epoch 12/25\n",
            "198/198 [==============================] - 14s 69ms/step - loss: 0.0661 - accuracy: 0.9731 - val_loss: 0.2479 - val_accuracy: 0.9667\n",
            "Epoch 13/25\n",
            "198/198 [==============================] - 14s 69ms/step - loss: 0.0828 - accuracy: 0.9764 - val_loss: 0.0807 - val_accuracy: 0.9667\n",
            "Epoch 14/25\n",
            "198/198 [==============================] - 14s 71ms/step - loss: 0.0597 - accuracy: 0.9747 - val_loss: 0.3070 - val_accuracy: 0.9333\n",
            "Epoch 15/25\n",
            "198/198 [==============================] - 14s 72ms/step - loss: 0.0207 - accuracy: 0.9949 - val_loss: 0.3172 - val_accuracy: 0.9667\n",
            "Epoch 16/25\n",
            "198/198 [==============================] - 14s 71ms/step - loss: 0.0180 - accuracy: 0.9949 - val_loss: 0.3450 - val_accuracy: 0.9667\n",
            "Epoch 17/25\n",
            "198/198 [==============================] - 14s 71ms/step - loss: 0.0163 - accuracy: 0.9949 - val_loss: 0.3449 - val_accuracy: 0.9667\n",
            "Epoch 18/25\n",
            "198/198 [==============================] - 15s 74ms/step - loss: 0.0399 - accuracy: 0.9899 - val_loss: 0.3622 - val_accuracy: 0.9667\n",
            "Epoch 19/25\n",
            "198/198 [==============================] - 14s 71ms/step - loss: 0.0726 - accuracy: 0.9714 - val_loss: 0.4733 - val_accuracy: 0.9333\n",
            "Epoch 20/25\n",
            "198/198 [==============================] - 14s 72ms/step - loss: 0.0305 - accuracy: 0.9865 - val_loss: 0.2421 - val_accuracy: 0.9667\n",
            "Epoch 21/25\n",
            "198/198 [==============================] - 14s 73ms/step - loss: 0.0276 - accuracy: 0.9899 - val_loss: 0.3346 - val_accuracy: 0.9333\n",
            "Epoch 22/25\n",
            "198/198 [==============================] - 14s 72ms/step - loss: 0.0223 - accuracy: 0.9916 - val_loss: 0.3854 - val_accuracy: 0.9333\n",
            "Epoch 23/25\n",
            "198/198 [==============================] - 14s 72ms/step - loss: 0.0176 - accuracy: 0.9949 - val_loss: 0.3296 - val_accuracy: 0.9667\n",
            "Epoch 24/25\n",
            "198/198 [==============================] - 15s 76ms/step - loss: 0.0743 - accuracy: 0.9798 - val_loss: 0.2808 - val_accuracy: 0.9667\n",
            "Epoch 25/25\n",
            "198/198 [==============================] - 15s 74ms/step - loss: 0.0559 - accuracy: 0.9865 - val_loss: 0.2628 - val_accuracy: 0.9667\n"
          ]
        },
        {
          "output_type": "execute_result",
          "data": {
            "text/plain": [
              "<keras.callbacks.History at 0x7f7197823bd0>"
            ]
          },
          "metadata": {},
          "execution_count": 21
        }
      ]
    },
    {
      "cell_type": "markdown",
      "source": [
        "Save the model"
      ],
      "metadata": {
        "id": "uNNS3uQNd8Fn"
      }
    },
    {
      "cell_type": "code",
      "source": [
        "model.save('gesture.h5')"
      ],
      "metadata": {
        "id": "iC5TAC7AeCQ_"
      },
      "execution_count": 24,
      "outputs": []
    },
    {
      "cell_type": "code",
      "source": [
        "json_model = model.to_json()\n",
        "with open(\"model-gesture.json\",\"w\") as json_file:\n",
        "  json_file.write(json_model)"
      ],
      "metadata": {
        "id": "GUuV9poWeKoj"
      },
      "execution_count": 25,
      "outputs": []
    },
    {
      "cell_type": "markdown",
      "source": [
        "Test the model"
      ],
      "metadata": {
        "id": "1-Z5U5f0eOIz"
      }
    },
    {
      "cell_type": "code",
      "source": [
        "from tensorflow.keras.models import load_model\n",
        "from tensorflow.keras.preprocessing import image\n",
        "test_model = load_model('gesture.h5')\n",
        "img_path=\"/content/drive/MyDrive/IBM/dataset/testimage1.jpg\""
      ],
      "metadata": {
        "id": "WvLMSWk-eOtj"
      },
      "execution_count": 78,
      "outputs": []
    },
    {
      "cell_type": "code",
      "source": [
        "import matplotlib.pyplot as plt\n",
        "import matplotlib.image as mpimg\n",
        "img = mpimg.imread(img_path)\n",
        "imgplot = plt.imshow(img)\n",
        "plt.show()"
      ],
      "metadata": {
        "colab": {
          "base_uri": "https://localhost:8080/",
          "height": 269
        },
        "id": "Rs-lWdY9gO4C",
        "outputId": "d17db6de-a027-450f-c64a-6ee5e75e6c0a"
      },
      "execution_count": 79,
      "outputs": [
        {
          "output_type": "display_data",
          "data": {
            "text/plain": [
              "<Figure size 432x288 with 1 Axes>"
            ],
            "image/png": "[encoded data removed]"
          },
          "metadata": {
            "needs_background": "light"
          }
        }
      ]
    },
    {
      "cell_type": "code",
      "source": [
        "imgload = image.load_img(img_path,color_mode='grayscale',target_size=(64,64))\n",
        "res = image.img_to_array(imgload)\n",
        "res.shape"
      ],
      "metadata": {
        "colab": {
          "base_uri": "https://localhost:8080/"
        },
        "id": "0lr4r1tTgPui",
        "outputId": "e7daf796-f596-4154-af52-4318f6e73623"
      },
      "execution_count": 80,
      "outputs": [
        {
          "output_type": "execute_result",
          "data": {
            "text/plain": [
              "(64, 64, 1)"
            ]
          },
          "metadata": {},
          "execution_count": 80
        }
      ]
    },
    {
      "cell_type": "code",
      "source": [
        "type(res)"
      ],
      "metadata": {
        "colab": {
          "base_uri": "https://localhost:8080/"
        },
        "id": "mUCX9_AKgsxk",
        "outputId": "bf1ea377-5a84-4aa0-9e67-7b00e2783b0f"
      },
      "execution_count": 81,
      "outputs": [
        {
          "output_type": "execute_result",
          "data": {
            "text/plain": [
              "numpy.ndarray"
            ]
          },
          "metadata": {},
          "execution_count": 81
        }
      ]
    },
    {
      "cell_type": "code",
      "source": [
        "res = np.expand_dims(res,axis=0)\n",
        "res.shape"
      ],
      "metadata": {
        "colab": {
          "base_uri": "https://localhost:8080/"
        },
        "id": "mokNxckVgvo8",
        "outputId": "f9d95822-5aad-49fb-b9bb-3afd2958b19f"
      },
      "execution_count": 82,
      "outputs": [
        {
          "output_type": "execute_result",
          "data": {
            "text/plain": [
              "(1, 64, 64, 1)"
            ]
          },
          "metadata": {},
          "execution_count": 82
        }
      ]
    },
    {
      "cell_type": "markdown",
      "source": [
        "Predict the result"
      ],
      "metadata": {
        "id": "egKryu77g1L1"
      }
    },
    {
      "cell_type": "code",
      "source": [
        "pred_res = np.argmax(test_model.predict(res),axis=-1)\n",
        "pred_res"
      ],
      "metadata": {
        "colab": {
          "base_uri": "https://localhost:8080/"
        },
        "id": "4eZEyZYxgy6U",
        "outputId": "f1deee3f-aa01-465e-b8f5-da1d6175a22b"
      },
      "execution_count": 83,
      "outputs": [
        {
          "output_type": "stream",
          "name": "stdout",
          "text": [
            "1/1 [==============================] - 0s 91ms/step\n"
          ]
        },
        {
          "output_type": "execute_result",
          "data": {
            "text/plain": [
              "array([1])"
            ]
          },
          "metadata": {},
          "execution_count": 83
        }
      ]
    },
    {
      "cell_type": "code",
      "source": [
        "index = ['0','1','2','3','4','5']\n",
        "final_res = str(index[pred_res[0]])\n",
        "final_res"
      ],
      "metadata": {
        "colab": {
          "base_uri": "https://localhost:8080/",
          "height": 36
        },
        "id": "qwXgzUvCg3bk",
        "outputId": "1239a256-60f9-40e6-f97b-5d258e03f88f"
      },
      "execution_count": 84,
      "outputs": [
        {
          "output_type": "execute_result",
          "data": {
            "text/plain": [
              "'1'"
            ],
            "application/vnd.google.colaboratory.intrinsic+json": {
              "type": "string"
            }
          },
          "metadata": {},
          "execution_count": 84
        }
      ]
    }
  ]
}